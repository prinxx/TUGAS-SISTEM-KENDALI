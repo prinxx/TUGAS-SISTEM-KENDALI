{
  "nbformat": 4,
  "nbformat_minor": 0,
  "metadata": {
    "colab": {
      "provenance": [],
      "collapsed_sections": [],
      "authorship_tag": "ABX9TyOgKPbRZZjqESUg9iwbqCBM",
      "include_colab_link": true
    },
    "kernelspec": {
      "name": "python3",
      "display_name": "Python 3"
    },
    "language_info": {
      "name": "python"
    },
    "widgets": {
      "application/vnd.jupyter.widget-state+json": {
        "6fb0f3ea029744429d17bbb233cc315a": {
          "model_module": "@jupyter-widgets/controls",
          "model_name": "VBoxModel",
          "model_module_version": "1.5.0",
          "state": {
            "_dom_classes": [
              "widget-interact"
            ],
            "_model_module": "@jupyter-widgets/controls",
            "_model_module_version": "1.5.0",
            "_model_name": "VBoxModel",
            "_view_count": null,
            "_view_module": "@jupyter-widgets/controls",
            "_view_module_version": "1.5.0",
            "_view_name": "VBoxView",
            "box_style": "",
            "children": [
              "IPY_MODEL_ee6082d674ca4823943490cdd193a2e1",
              "IPY_MODEL_0c0cf3f5057040338c511808ad09c9ba",
              "IPY_MODEL_d124aae9d63443a8b2a897d36fae320a",
              "IPY_MODEL_0dd321fb0d594ed0b76e5e078f01efbe"
            ],
            "layout": "IPY_MODEL_af517de9993d47779e7c74ff43e1c89e"
          }
        },
        "ee6082d674ca4823943490cdd193a2e1": {
          "model_module": "@jupyter-widgets/controls",
          "model_name": "FloatSliderModel",
          "model_module_version": "1.5.0",
          "state": {
            "_dom_classes": [],
            "_model_module": "@jupyter-widgets/controls",
            "_model_module_version": "1.5.0",
            "_model_name": "FloatSliderModel",
            "_view_count": null,
            "_view_module": "@jupyter-widgets/controls",
            "_view_module_version": "1.5.0",
            "_view_name": "FloatSliderView",
            "continuous_update": true,
            "description": "T",
            "description_tooltip": null,
            "disabled": false,
            "layout": "IPY_MODEL_692398e9973645b1bc2b8c4cc980b7b6",
            "max": 10,
            "min": 1,
            "orientation": "horizontal",
            "readout": true,
            "readout_format": ".2f",
            "step": 0.1,
            "style": "IPY_MODEL_f917b75ffb8f477fbd0e281105c09030",
            "value": 5
          }
        },
        "0c0cf3f5057040338c511808ad09c9ba": {
          "model_module": "@jupyter-widgets/controls",
          "model_name": "IntSliderModel",
          "model_module_version": "1.5.0",
          "state": {
            "_dom_classes": [],
            "_model_module": "@jupyter-widgets/controls",
            "_model_module_version": "1.5.0",
            "_model_name": "IntSliderModel",
            "_view_count": null,
            "_view_module": "@jupyter-widgets/controls",
            "_view_module_version": "1.5.0",
            "_view_name": "IntSliderView",
            "continuous_update": true,
            "description": "Kp",
            "description_tooltip": null,
            "disabled": false,
            "layout": "IPY_MODEL_ea22191e500c4f15ab0eea3d572a73b4",
            "max": 10,
            "min": 1,
            "orientation": "horizontal",
            "readout": true,
            "readout_format": "d",
            "step": 1,
            "style": "IPY_MODEL_26982108ab81411c9cb8f2a78c3cdbc8",
            "value": 1
          }
        },
        "d124aae9d63443a8b2a897d36fae320a": {
          "model_module": "@jupyter-widgets/controls",
          "model_name": "IntSliderModel",
          "model_module_version": "1.5.0",
          "state": {
            "_dom_classes": [],
            "_model_module": "@jupyter-widgets/controls",
            "_model_module_version": "1.5.0",
            "_model_name": "IntSliderModel",
            "_view_count": null,
            "_view_module": "@jupyter-widgets/controls",
            "_view_module_version": "1.5.0",
            "_view_name": "IntSliderView",
            "continuous_update": true,
            "description": "Kd",
            "description_tooltip": null,
            "disabled": false,
            "layout": "IPY_MODEL_d4460fcf6ef846c6bcb0aa24628ad988",
            "max": 10,
            "min": 0,
            "orientation": "horizontal",
            "readout": true,
            "readout_format": "d",
            "step": 1,
            "style": "IPY_MODEL_d09e331d389e41a9b2104057935a7472",
            "value": 5
          }
        },
        "0dd321fb0d594ed0b76e5e078f01efbe": {
          "model_module": "@jupyter-widgets/output",
          "model_name": "OutputModel",
          "model_module_version": "1.0.0",
          "state": {
            "_dom_classes": [],
            "_model_module": "@jupyter-widgets/output",
            "_model_module_version": "1.0.0",
            "_model_name": "OutputModel",
            "_view_count": null,
            "_view_module": "@jupyter-widgets/output",
            "_view_module_version": "1.0.0",
            "_view_name": "OutputView",
            "layout": "IPY_MODEL_768005610eb445eb81a9d0e30de12969",
            "msg_id": "",
            "outputs": [
              {
                "output_type": "stream",
                "name": "stdout",
                "text": [
                  "transfer function:  \n",
                  "      5 s + 1\n",
                  "-------------------\n",
                  "5 s^2 + 5.312 s + 2\n",
                  "\n"
                ]
              },
              {
                "output_type": "display_data",
                "data": {
                  "text/plain": "<Figure size 1152x576 with 3 Axes>",
                  "image/png": "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\n"
                },
                "metadata": {
                  "needs_background": "light"
                }
              },
              {
                "output_type": "stream",
                "name": "stdout",
                "text": [
                  "Rise Time:  0.5253670087401744\n",
                  "Settling Time:  8.668555644212878\n",
                  "Overshoot:  68.78595806813956\n",
                  "Steady-state Error 2.5097480865305655\n"
                ]
              }
            ]
          }
        },
        "af517de9993d47779e7c74ff43e1c89e": {
          "model_module": "@jupyter-widgets/base",
          "model_name": "LayoutModel",
          "model_module_version": "1.2.0",
          "state": {
            "_model_module": "@jupyter-widgets/base",
            "_model_module_version": "1.2.0",
            "_model_name": "LayoutModel",
            "_view_count": null,
            "_view_module": "@jupyter-widgets/base",
            "_view_module_version": "1.2.0",
            "_view_name": "LayoutView",
            "align_content": null,
            "align_items": null,
            "align_self": null,
            "border": null,
            "bottom": null,
            "display": null,
            "flex": null,
            "flex_flow": null,
            "grid_area": null,
            "grid_auto_columns": null,
            "grid_auto_flow": null,
            "grid_auto_rows": null,
            "grid_column": null,
            "grid_gap": null,
            "grid_row": null,
            "grid_template_areas": null,
            "grid_template_columns": null,
            "grid_template_rows": null,
            "height": null,
            "justify_content": null,
            "justify_items": null,
            "left": null,
            "margin": null,
            "max_height": null,
            "max_width": null,
            "min_height": null,
            "min_width": null,
            "object_fit": null,
            "object_position": null,
            "order": null,
            "overflow": null,
            "overflow_x": null,
            "overflow_y": null,
            "padding": null,
            "right": null,
            "top": null,
            "visibility": null,
            "width": null
          }
        },
        "692398e9973645b1bc2b8c4cc980b7b6": {
          "model_module": "@jupyter-widgets/base",
          "model_name": "LayoutModel",
          "model_module_version": "1.2.0",
          "state": {
            "_model_module": "@jupyter-widgets/base",
            "_model_module_version": "1.2.0",
            "_model_name": "LayoutModel",
            "_view_count": null,
            "_view_module": "@jupyter-widgets/base",
            "_view_module_version": "1.2.0",
            "_view_name": "LayoutView",
            "align_content": null,
            "align_items": null,
            "align_self": null,
            "border": null,
            "bottom": null,
            "display": null,
            "flex": null,
            "flex_flow": null,
            "grid_area": null,
            "grid_auto_columns": null,
            "grid_auto_flow": null,
            "grid_auto_rows": null,
            "grid_column": null,
            "grid_gap": null,
            "grid_row": null,
            "grid_template_areas": null,
            "grid_template_columns": null,
            "grid_template_rows": null,
            "height": null,
            "justify_content": null,
            "justify_items": null,
            "left": null,
            "margin": null,
            "max_height": null,
            "max_width": null,
            "min_height": null,
            "min_width": null,
            "object_fit": null,
            "object_position": null,
            "order": null,
            "overflow": null,
            "overflow_x": null,
            "overflow_y": null,
            "padding": null,
            "right": null,
            "top": null,
            "visibility": null,
            "width": null
          }
        },
        "f917b75ffb8f477fbd0e281105c09030": {
          "model_module": "@jupyter-widgets/controls",
          "model_name": "SliderStyleModel",
          "model_module_version": "1.5.0",
          "state": {
            "_model_module": "@jupyter-widgets/controls",
            "_model_module_version": "1.5.0",
            "_model_name": "SliderStyleModel",
            "_view_count": null,
            "_view_module": "@jupyter-widgets/base",
            "_view_module_version": "1.2.0",
            "_view_name": "StyleView",
            "description_width": "",
            "handle_color": null
          }
        },
        "ea22191e500c4f15ab0eea3d572a73b4": {
          "model_module": "@jupyter-widgets/base",
          "model_name": "LayoutModel",
          "model_module_version": "1.2.0",
          "state": {
            "_model_module": "@jupyter-widgets/base",
            "_model_module_version": "1.2.0",
            "_model_name": "LayoutModel",
            "_view_count": null,
            "_view_module": "@jupyter-widgets/base",
            "_view_module_version": "1.2.0",
            "_view_name": "LayoutView",
            "align_content": null,
            "align_items": null,
            "align_self": null,
            "border": null,
            "bottom": null,
            "display": null,
            "flex": null,
            "flex_flow": null,
            "grid_area": null,
            "grid_auto_columns": null,
            "grid_auto_flow": null,
            "grid_auto_rows": null,
            "grid_column": null,
            "grid_gap": null,
            "grid_row": null,
            "grid_template_areas": null,
            "grid_template_columns": null,
            "grid_template_rows": null,
            "height": null,
            "justify_content": null,
            "justify_items": null,
            "left": null,
            "margin": null,
            "max_height": null,
            "max_width": null,
            "min_height": null,
            "min_width": null,
            "object_fit": null,
            "object_position": null,
            "order": null,
            "overflow": null,
            "overflow_x": null,
            "overflow_y": null,
            "padding": null,
            "right": null,
            "top": null,
            "visibility": null,
            "width": null
          }
        },
        "26982108ab81411c9cb8f2a78c3cdbc8": {
          "model_module": "@jupyter-widgets/controls",
          "model_name": "SliderStyleModel",
          "model_module_version": "1.5.0",
          "state": {
            "_model_module": "@jupyter-widgets/controls",
            "_model_module_version": "1.5.0",
            "_model_name": "SliderStyleModel",
            "_view_count": null,
            "_view_module": "@jupyter-widgets/base",
            "_view_module_version": "1.2.0",
            "_view_name": "StyleView",
            "description_width": "",
            "handle_color": null
          }
        },
        "d4460fcf6ef846c6bcb0aa24628ad988": {
          "model_module": "@jupyter-widgets/base",
          "model_name": "LayoutModel",
          "model_module_version": "1.2.0",
          "state": {
            "_model_module": "@jupyter-widgets/base",
            "_model_module_version": "1.2.0",
            "_model_name": "LayoutModel",
            "_view_count": null,
            "_view_module": "@jupyter-widgets/base",
            "_view_module_version": "1.2.0",
            "_view_name": "LayoutView",
            "align_content": null,
            "align_items": null,
            "align_self": null,
            "border": null,
            "bottom": null,
            "display": null,
            "flex": null,
            "flex_flow": null,
            "grid_area": null,
            "grid_auto_columns": null,
            "grid_auto_flow": null,
            "grid_auto_rows": null,
            "grid_column": null,
            "grid_gap": null,
            "grid_row": null,
            "grid_template_areas": null,
            "grid_template_columns": null,
            "grid_template_rows": null,
            "height": null,
            "justify_content": null,
            "justify_items": null,
            "left": null,
            "margin": null,
            "max_height": null,
            "max_width": null,
            "min_height": null,
            "min_width": null,
            "object_fit": null,
            "object_position": null,
            "order": null,
            "overflow": null,
            "overflow_x": null,
            "overflow_y": null,
            "padding": null,
            "right": null,
            "top": null,
            "visibility": null,
            "width": null
          }
        },
        "d09e331d389e41a9b2104057935a7472": {
          "model_module": "@jupyter-widgets/controls",
          "model_name": "SliderStyleModel",
          "model_module_version": "1.5.0",
          "state": {
            "_model_module": "@jupyter-widgets/controls",
            "_model_module_version": "1.5.0",
            "_model_name": "SliderStyleModel",
            "_view_count": null,
            "_view_module": "@jupyter-widgets/base",
            "_view_module_version": "1.2.0",
            "_view_name": "StyleView",
            "description_width": "",
            "handle_color": null
          }
        },
        "768005610eb445eb81a9d0e30de12969": {
          "model_module": "@jupyter-widgets/base",
          "model_name": "LayoutModel",
          "model_module_version": "1.2.0",
          "state": {
            "_model_module": "@jupyter-widgets/base",
            "_model_module_version": "1.2.0",
            "_model_name": "LayoutModel",
            "_view_count": null,
            "_view_module": "@jupyter-widgets/base",
            "_view_module_version": "1.2.0",
            "_view_name": "LayoutView",
            "align_content": null,
            "align_items": null,
            "align_self": null,
            "border": null,
            "bottom": null,
            "display": null,
            "flex": null,
            "flex_flow": null,
            "grid_area": null,
            "grid_auto_columns": null,
            "grid_auto_flow": null,
            "grid_auto_rows": null,
            "grid_column": null,
            "grid_gap": null,
            "grid_row": null,
            "grid_template_areas": null,
            "grid_template_columns": null,
            "grid_template_rows": null,
            "height": null,
            "justify_content": null,
            "justify_items": null,
            "left": null,
            "margin": null,
            "max_height": null,
            "max_width": null,
            "min_height": null,
            "min_width": null,
            "object_fit": null,
            "object_position": null,
            "order": null,
            "overflow": null,
            "overflow_x": null,
            "overflow_y": null,
            "padding": null,
            "right": null,
            "top": null,
            "visibility": null,
            "width": null
          }
        }
      }
    }
  },
  "cells": [
    {
      "cell_type": "markdown",
      "metadata": {
        "id": "view-in-github",
        "colab_type": "text"
      },
      "source": [
        "<a href=\"https://colab.research.google.com/github/prinxx/TUGAS-SISTEM-KENDALI/blob/main/477776_Sabrina_Aisha_Alyani_Sisken_5.ipynb\" target=\"_parent\"><img src=\"https://colab.research.google.com/assets/colab-badge.svg\" alt=\"Open In Colab\"/></a>"
      ]
    },
    {
      "cell_type": "markdown",
      "source": [
        "# Nama: Sabrina Aisha Alyani\n",
        "# NIM : 21/477776/PA/20702\n",
        "# Kelas : EL \n",
        "# Tugas : Assignment 5\n",
        "# Mata kuliah : Sistem Kendali\n",
        "\n",
        "```\n",
        "\n"
      ],
      "metadata": {
        "id": "sCMMVpaZ0lTM"
      }
    },
    {
      "cell_type": "code",
      "execution_count": 3,
      "metadata": {
        "colab": {
          "base_uri": "https://localhost:8080/"
        },
        "id": "6fKNz4scvzDp",
        "outputId": "087b6682-f092-4259-8252-a80cac4bf9bb"
      },
      "outputs": [
        {
          "output_type": "stream",
          "name": "stdout",
          "text": [
            "Looking in indexes: https://pypi.org/simple, https://us-python.pkg.dev/colab-wheels/public/simple/\n",
            "Collecting slycot\n",
            "  Downloading slycot-0.5.0.0.tar.gz (3.0 MB)\n",
            "\u001b[K     |████████████████████████████████| 3.0 MB 3.9 MB/s \n",
            "\u001b[?25h  Installing build dependencies ... \u001b[?25l\u001b[?25hdone\n",
            "  Getting requirements to build wheel ... \u001b[?25l\u001b[?25hdone\n",
            "    Preparing wheel metadata ... \u001b[?25l\u001b[?25hdone\n",
            "Requirement already satisfied: numpy in /usr/local/lib/python3.7/dist-packages (from slycot) (1.21.6)\n",
            "Building wheels for collected packages: slycot\n",
            "  Building wheel for slycot (PEP 517) ... \u001b[?25l\u001b[?25hdone\n",
            "  Created wheel for slycot: filename=slycot-0.5.0-cp37-cp37m-linux_x86_64.whl size=2021298 sha256=3096b2947bb68b4567b6eec21ce535eb4eeb961be878cd6c178ca8a8761651a6\n",
            "  Stored in directory: /root/.cache/pip/wheels/7f/2e/54/e2cb7cf358f956ed0efa9923ab4f5aa353a941422c55b25531\n",
            "Successfully built slycot\n",
            "Installing collected packages: slycot\n",
            "Successfully installed slycot-0.5.0\n",
            "Looking in indexes: https://pypi.org/simple, https://us-python.pkg.dev/colab-wheels/public/simple/\n",
            "Collecting control\n",
            "  Downloading control-0.9.2.tar.gz (398 kB)\n",
            "\u001b[K     |████████████████████████████████| 398 kB 4.0 MB/s \n",
            "\u001b[?25hRequirement already satisfied: numpy in /usr/local/lib/python3.7/dist-packages (from control) (1.21.6)\n",
            "Requirement already satisfied: scipy in /usr/local/lib/python3.7/dist-packages (from control) (1.7.3)\n",
            "Requirement already satisfied: matplotlib in /usr/local/lib/python3.7/dist-packages (from control) (3.2.2)\n",
            "Requirement already satisfied: kiwisolver>=1.0.1 in /usr/local/lib/python3.7/dist-packages (from matplotlib->control) (1.4.4)\n",
            "Requirement already satisfied: pyparsing!=2.0.4,!=2.1.2,!=2.1.6,>=2.0.1 in /usr/local/lib/python3.7/dist-packages (from matplotlib->control) (3.0.9)\n",
            "Requirement already satisfied: cycler>=0.10 in /usr/local/lib/python3.7/dist-packages (from matplotlib->control) (0.11.0)\n",
            "Requirement already satisfied: python-dateutil>=2.1 in /usr/local/lib/python3.7/dist-packages (from matplotlib->control) (2.8.2)\n",
            "Requirement already satisfied: typing-extensions in /usr/local/lib/python3.7/dist-packages (from kiwisolver>=1.0.1->matplotlib->control) (4.1.1)\n",
            "Requirement already satisfied: six>=1.5 in /usr/local/lib/python3.7/dist-packages (from python-dateutil>=2.1->matplotlib->control) (1.15.0)\n",
            "Building wheels for collected packages: control\n",
            "  Building wheel for control (setup.py) ... \u001b[?25l\u001b[?25hdone\n",
            "  Created wheel for control: filename=control-0.9.2-py2.py3-none-any.whl size=403205 sha256=3ce895f10b340658513bc3772a911a47d8be982af8246b32f1542ca558e523f9\n",
            "  Stored in directory: /root/.cache/pip/wheels/48/ef/c2/929bb5c59a1328df00a0561d0e68cd7c8537f33f5ce0ce741b\n",
            "Successfully built control\n",
            "Installing collected packages: control\n",
            "Successfully installed control-0.9.2\n"
          ]
        }
      ],
      "source": [
        "# Install module\n",
        "%pip install slycot\n",
        "%pip install control"
      ]
    },
    {
      "cell_type": "code",
      "source": [
        "# import module\n",
        "import numpy as np\n",
        "import matplotlib.pyplot as plt\n",
        "import control.matlab as matlab\n",
        "from ipywidgets import interact"
      ],
      "metadata": {
        "id": "UbjhzMjiwC8D"
      },
      "execution_count": 4,
      "outputs": []
    },
    {
      "cell_type": "code",
      "source": [
        "# fungsi menampilkan hasil second order\n",
        "def secondOrderWithIntegral(T, Kp = 1, Kd = 0):\n",
        "    # definisi plot\n",
        "    fig, (step, impulse, ramp) = plt.subplots(1, 3, figsize=(16, 8))\n",
        "\n",
        "    # definisi fungsi step response\n",
        "    s = matlab.tf('s')\n",
        "    # num = np.array([1])\n",
        "    # den = np.array([3,2])\n",
        "    num = np.array([1])\n",
        "    den = np.array([T, T/16, 1])\n",
        "    Gs = matlab.tf(num, den)\n",
        "    if Kd == 0:\n",
        "        G = Gs\n",
        "    else:\n",
        "        Gc = matlab.tf([Kd, Kp], 1)\n",
        "        G = matlab.feedback(Gs*Gc, 1)\n",
        "    # transfer function\n",
        "    print(\"transfer function: \",G )\n",
        "\n",
        "    # step response\n",
        "    step_out, T = matlab.step(G)\n",
        "    step.plot(T, step_out, label = 'Step')\n",
        "    step.set_title('Step Response')\n",
        "    step.set_xlabel('Time (seconds)')\n",
        "    step.set_ylabel('Amplitude')\n",
        "    step.grid()\n",
        "    step.legend()\n",
        "\n",
        "    # ramp response\n",
        "    ramp_out, T = matlab.step(G/s)\n",
        "    ramp.plot(np.linspace(T[0], T[len(T)-1]), np.linspace(T[0], T[len(T)-1]), label = 'ideal')\n",
        "    ramp.plot(T, ramp_out, label = 'Ramp')\n",
        "    ramp.set_title('Ramp Response')\n",
        "    ramp.set_xlabel('Time (seconds)')\n",
        "    ramp.set_ylabel('Amplitude')\n",
        "    ramp.grid()\n",
        "    ramp.legend()\n",
        "\n",
        "    # impulse response\n",
        "    impulse_out, T = matlab.impulse(G)\n",
        "    impulse.plot(T, impulse_out, label = 'Impulse')\n",
        "    impulse.set_title('Impulse Response')\n",
        "    impulse.set_xlabel('Time (seconds)')\n",
        "    impulse.set_ylabel('Amplitude')\n",
        "    impulse.grid()\n",
        "    impulse.legend()\n",
        "\n",
        "    # menampilkan plot\n",
        "    plt.show()\n",
        "\n",
        "    # menampilkan hasil\n",
        "    stepInfo = matlab.stepinfo(G)\n",
        "    step_out, T = matlab.step(5*G)\n",
        "    print('Rise Time: ', stepInfo['RiseTime'])\n",
        "    print('Settling Time: ', stepInfo['SettlingTime'])\n",
        "    print('Overshoot: ', stepInfo['Overshoot'])\n",
        "    print('Steady-state Error', np.abs(5 - step_out[len(step_out) - 1]))\n",
        "\n",
        "print(\"Ok\")"
      ],
      "metadata": {
        "colab": {
          "base_uri": "https://localhost:8080/"
        },
        "id": "W8aVrwP2zpfr",
        "outputId": "03244a8d-4d0e-4f28-fed0-7ef632c43581"
      },
      "execution_count": 5,
      "outputs": [
        {
          "output_type": "stream",
          "name": "stdout",
          "text": [
            "Ok\n"
          ]
        }
      ]
    },
    {
      "cell_type": "code",
      "source": [
        "# menampilkan second order Kp = 2\n",
        "interact(secondOrderWithIntegral, T = (1.0, 10.0, 0.1), Kp = (1, 10, 1), Kd = (0, 10, 1))"
      ],
      "metadata": {
        "colab": {
          "base_uri": "https://localhost:8080/",
          "height": 783,
          "referenced_widgets": [
            "6fb0f3ea029744429d17bbb233cc315a",
            "ee6082d674ca4823943490cdd193a2e1",
            "0c0cf3f5057040338c511808ad09c9ba",
            "d124aae9d63443a8b2a897d36fae320a",
            "0dd321fb0d594ed0b76e5e078f01efbe",
            "af517de9993d47779e7c74ff43e1c89e",
            "692398e9973645b1bc2b8c4cc980b7b6",
            "f917b75ffb8f477fbd0e281105c09030",
            "ea22191e500c4f15ab0eea3d572a73b4",
            "26982108ab81411c9cb8f2a78c3cdbc8",
            "d4460fcf6ef846c6bcb0aa24628ad988",
            "d09e331d389e41a9b2104057935a7472",
            "768005610eb445eb81a9d0e30de12969"
          ]
        },
        "id": "R1b6d3Pd0Ea_",
        "outputId": "592a86b2-1522-458e-a6fa-1b9161d53f91"
      },
      "execution_count": 6,
      "outputs": [
        {
          "output_type": "display_data",
          "data": {
            "text/plain": [
              "interactive(children=(FloatSlider(value=5.5, description='T', max=10.0, min=1.0), IntSlider(value=1, descripti…"
            ],
            "application/vnd.jupyter.widget-view+json": {
              "version_major": 2,
              "version_minor": 0,
              "model_id": "6fb0f3ea029744429d17bbb233cc315a"
            }
          },
          "metadata": {}
        },
        {
          "output_type": "execute_result",
          "data": {
            "text/plain": [
              "<function __main__.secondOrderWithIntegral(T, Kp=1, Kd=0)>"
            ]
          },
          "metadata": {},
          "execution_count": 6
        }
      ]
    }
  ]
}