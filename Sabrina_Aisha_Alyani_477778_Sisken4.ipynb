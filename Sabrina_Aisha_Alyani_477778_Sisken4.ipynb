{
  "cells": [
    {
      "cell_type": "markdown",
      "metadata": {
        "id": "view-in-github",
        "colab_type": "text"
      },
      "source": [
        "<a href=\"https://colab.research.google.com/github/prinxx/TUGAS-SISTEM-KENDALI/blob/main/Sabrina_Aisha_Alyani_477778_Sisken4.ipynb\" target=\"_parent\"><img src=\"https://colab.research.google.com/assets/colab-badge.svg\" alt=\"Open In Colab\"/></a>"
      ]
    },
    {
      "cell_type": "markdown",
      "metadata": {
        "id": "dM7RK_3a6Ttv"
      },
      "source": [
        "# Nama  : Sabrina Aisha Alyani\n",
        "# Nim   : 21/477776/PA/20702\n",
        "# Tugas : 4 \n",
        "# Mata Kuliah : Sistem Kendali"
      ]
    },
    {
      "cell_type": "code",
      "execution_count": 14,
      "metadata": {
        "colab": {
          "base_uri": "https://localhost:8080/"
        },
        "id": "PpAr41AEwLYT",
        "outputId": "d43fba89-ea11-405c-b82a-9735efb14e29"
      },
      "outputs": [
        {
          "output_type": "stream",
          "name": "stdout",
          "text": [
            "Looking in indexes: https://pypi.org/simple, https://us-python.pkg.dev/colab-wheels/public/simple/\n",
            "Requirement already satisfied: slycot in /usr/local/lib/python3.7/dist-packages (0.5.0)\n",
            "Requirement already satisfied: numpy in /usr/local/lib/python3.7/dist-packages (from slycot) (1.21.6)\n",
            "Looking in indexes: https://pypi.org/simple, https://us-python.pkg.dev/colab-wheels/public/simple/\n",
            "Requirement already satisfied: control in /usr/local/lib/python3.7/dist-packages (0.9.2)\n",
            "Requirement already satisfied: scipy in /usr/local/lib/python3.7/dist-packages (from control) (1.7.3)\n",
            "Requirement already satisfied: numpy in /usr/local/lib/python3.7/dist-packages (from control) (1.21.6)\n",
            "Requirement already satisfied: matplotlib in /usr/local/lib/python3.7/dist-packages (from control) (3.2.2)\n",
            "Requirement already satisfied: cycler>=0.10 in /usr/local/lib/python3.7/dist-packages (from matplotlib->control) (0.11.0)\n",
            "Requirement already satisfied: pyparsing!=2.0.4,!=2.1.2,!=2.1.6,>=2.0.1 in /usr/local/lib/python3.7/dist-packages (from matplotlib->control) (3.0.9)\n",
            "Requirement already satisfied: kiwisolver>=1.0.1 in /usr/local/lib/python3.7/dist-packages (from matplotlib->control) (1.4.4)\n",
            "Requirement already satisfied: python-dateutil>=2.1 in /usr/local/lib/python3.7/dist-packages (from matplotlib->control) (2.8.2)\n",
            "Requirement already satisfied: typing-extensions in /usr/local/lib/python3.7/dist-packages (from kiwisolver>=1.0.1->matplotlib->control) (4.1.1)\n",
            "Requirement already satisfied: six>=1.5 in /usr/local/lib/python3.7/dist-packages (from python-dateutil>=2.1->matplotlib->control) (1.15.0)\n"
          ]
        }
      ],
      "source": [
        "# Install module\n",
        "%pip install slycot\n",
        "%pip install control"
      ]
    },
    {
      "cell_type": "code",
      "execution_count": 15,
      "metadata": {
        "id": "OlviWN9Zyt3o"
      },
      "outputs": [],
      "source": [
        "#import module\n",
        "import numpy as np\n",
        "import matplotlib.pyplot as plt\n",
        "import control.matlab as matlab\n",
        "from ipywidgets import interact"
      ]
    },
    {
      "cell_type": "code",
      "execution_count": 16,
      "metadata": {
        "id": "eSHTiE7kwls9",
        "colab": {
          "base_uri": "https://localhost:8080/"
        },
        "outputId": "e75329f5-d620-4179-827f-640f9aaf18c8"
      },
      "outputs": [
        {
          "output_type": "stream",
          "name": "stdout",
          "text": [
            "Ok\n"
          ]
        }
      ],
      "source": [
        "# fungsi menampilkan hasil second order\n",
        "def secondOrderWithIntegral(T, Kp = 1, Ki = 0):\n",
        "    # definisi plot\n",
        "    fig, (step, impulse, ramp) = plt.subplots(1, 3, figsize=(16, 8))\n",
        "\n",
        "    # definisi fungsi step response\n",
        "    s = matlab.tf('s')\n",
        "    # num = np.array([1])\n",
        "    # den = np.array([3,2])\n",
        "    num = np.array([1])\n",
        "    den = np.array([T, T/16, 1])\n",
        "    Gs = matlab.tf(num, den)\n",
        "    if Ki == 0:\n",
        "        G = Gs\n",
        "    else:\n",
        "        Gc = matlab.tf([Ki, Kp], [1, 0])\n",
        "        G = matlab.feedback(Gs*Gc, 1)\n",
        "    # transfer function\n",
        "    print(\"transfer function: \",G )\n",
        "\n",
        "    # step response\n",
        "    step_out, T = matlab.step(G)\n",
        "    step.plot(T, step_out, label = 'Step')\n",
        "    step.set_title('Step Response')\n",
        "    step.set_xlabel('Time (seconds)')\n",
        "    step.set_ylabel('Amplitude')\n",
        "    step.grid()\n",
        "    step.legend()\n",
        "\n",
        "    # ramp response\n",
        "    ramp_out, T = matlab.step(G/s)\n",
        "    ramp.plot(np.linspace(T[0], T[len(T)-1]), np.linspace(T[0], T[len(T)-1]), label = 'ideal')\n",
        "    ramp.plot(T, ramp_out, label = 'Ramp')\n",
        "    ramp.set_title('Ramp Response')\n",
        "    ramp.set_xlabel('Time (seconds)')\n",
        "    ramp.set_ylabel('Amplitude')\n",
        "    ramp.grid()\n",
        "    ramp.legend()\n",
        "\n",
        "    # impulse response\n",
        "    impulse_out, T = matlab.impulse(G)\n",
        "    impulse.plot(T, impulse_out, label = 'Impulse')\n",
        "    impulse.set_title('Impulse Response')\n",
        "    impulse.set_xlabel('Time (seconds)')\n",
        "    impulse.set_ylabel('Amplitude')\n",
        "    impulse.grid()\n",
        "    impulse.legend()\n",
        "\n",
        "    # menampilkan plot\n",
        "    plt.show()\n",
        "\n",
        "    # menampilkan hasil\n",
        "    stepInfo = matlab.stepinfo(G)\n",
        "    step_out, T = matlab.step(5*G)\n",
        "    print('Rise Time: ', stepInfo['RiseTime'])\n",
        "    print('Settling Time: ', stepInfo['SettlingTime'])\n",
        "    print('Overshoot: ', stepInfo['Overshoot'])\n",
        "    print('Steady-state Error', np.abs(5 - step_out[len(step_out) - 1]))\n",
        "\n",
        "print(\"Ok\")"
      ]
    },
    {
      "cell_type": "code",
      "execution_count": 17,
      "metadata": {
        "colab": {
          "base_uri": "https://localhost:8080/",
          "height": 783,
          "referenced_widgets": [
            "3a45bb43ab9e4f92872dec4fee43fda4",
            "18a35028fe924a71877449fd8f5af0a5",
            "83ef725dfbbc41c6bb94ed2fdf6029b0",
            "fcebff7784b04f0c8c091a769629e6ce",
            "b398a9f0f22844ce8897a2ed459b6ce7",
            "33546a5f11d24058b995e55d989b540e",
            "fe336c4ccbf642a79791f0af3ef37a68",
            "3cb0bfb02b814cba9284393c0cbf4af6",
            "09d4ad343b034d7e83f311681d8769b0",
            "1b0873aaa3f84b50b1ff14b4daba06bb",
            "e96ed2511b5747d5887b430e53cf5fe4",
            "62f4e9d24fe441a4abe11aa6563ef8f4",
            "28967c2e87204847a446adb0c47afd4a"
          ]
        },
        "id": "jYyNnvpraEs2",
        "outputId": "7a07a13f-a0f7-40aa-8ca2-5d07941f2e91"
      },
      "outputs": [
        {
          "output_type": "display_data",
          "data": {
            "text/plain": [
              "interactive(children=(FloatSlider(value=5.0, description='T', max=9.0, min=1.0), IntSlider(value=1, descriptio…"
            ],
            "application/vnd.jupyter.widget-view+json": {
              "version_major": 2,
              "version_minor": 0,
              "model_id": "3a45bb43ab9e4f92872dec4fee43fda4"
            }
          },
          "metadata": {}
        },
        {
          "output_type": "execute_result",
          "data": {
            "text/plain": [
              "<function __main__.secondOrderWithIntegral(T, Kp=1, Ki=0)>"
            ]
          },
          "metadata": {},
          "execution_count": 17
        }
      ],
      "source": [
        "# menampilkan second order Kp = 2\n",
        "interact(secondOrderWithIntegral, T = (1.0, 9.0), Kp = 1, Ki = (0,9))"
      ]
    }
  ],
  "metadata": {
    "colab": {
      "collapsed_sections": [],
      "provenance": [],
      "include_colab_link": true
    },
    "kernelspec": {
      "display_name": "Python 3.10.6 64-bit",
      "language": "python",
      "name": "python3"
    },
    "language_info": {
      "codemirror_mode": {
        "name": "ipython",
        "version": 3
      },
      "file_extension": ".py",
      "mimetype": "text/x-python",
      "name": "python",
      "nbconvert_exporter": "python",
      "pygments_lexer": "ipython3",
      "version": "3.10.6"
    },
    "vscode": {
      "interpreter": {
        "hash": "aee8b7b246df8f9039afb4144a1f6fd8d2ca17a180786b69acc140d282b71a49"
      }
    },
    "widgets": {
      "application/vnd.jupyter.widget-state+json": {
        "3a45bb43ab9e4f92872dec4fee43fda4": {
          "model_module": "@jupyter-widgets/controls",
          "model_name": "VBoxModel",
          "model_module_version": "1.5.0",
          "state": {
            "_dom_classes": [
              "widget-interact"
            ],
            "_model_module": "@jupyter-widgets/controls",
            "_model_module_version": "1.5.0",
            "_model_name": "VBoxModel",
            "_view_count": null,
            "_view_module": "@jupyter-widgets/controls",
            "_view_module_version": "1.5.0",
            "_view_name": "VBoxView",
            "box_style": "",
            "children": [
              "IPY_MODEL_18a35028fe924a71877449fd8f5af0a5",
              "IPY_MODEL_83ef725dfbbc41c6bb94ed2fdf6029b0",
              "IPY_MODEL_fcebff7784b04f0c8c091a769629e6ce",
              "IPY_MODEL_b398a9f0f22844ce8897a2ed459b6ce7"
            ],
            "layout": "IPY_MODEL_33546a5f11d24058b995e55d989b540e"
          }
        },
        "18a35028fe924a71877449fd8f5af0a5": {
          "model_module": "@jupyter-widgets/controls",
          "model_name": "FloatSliderModel",
          "model_module_version": "1.5.0",
          "state": {
            "_dom_classes": [],
            "_model_module": "@jupyter-widgets/controls",
            "_model_module_version": "1.5.0",
            "_model_name": "FloatSliderModel",
            "_view_count": null,
            "_view_module": "@jupyter-widgets/controls",
            "_view_module_version": "1.5.0",
            "_view_name": "FloatSliderView",
            "continuous_update": true,
            "description": "T",
            "description_tooltip": null,
            "disabled": false,
            "layout": "IPY_MODEL_fe336c4ccbf642a79791f0af3ef37a68",
            "max": 9,
            "min": 1,
            "orientation": "horizontal",
            "readout": true,
            "readout_format": ".2f",
            "step": 0.1,
            "style": "IPY_MODEL_3cb0bfb02b814cba9284393c0cbf4af6",
            "value": 5
          }
        },
        "83ef725dfbbc41c6bb94ed2fdf6029b0": {
          "model_module": "@jupyter-widgets/controls",
          "model_name": "IntSliderModel",
          "model_module_version": "1.5.0",
          "state": {
            "_dom_classes": [],
            "_model_module": "@jupyter-widgets/controls",
            "_model_module_version": "1.5.0",
            "_model_name": "IntSliderModel",
            "_view_count": null,
            "_view_module": "@jupyter-widgets/controls",
            "_view_module_version": "1.5.0",
            "_view_name": "IntSliderView",
            "continuous_update": true,
            "description": "Kp",
            "description_tooltip": null,
            "disabled": false,
            "layout": "IPY_MODEL_09d4ad343b034d7e83f311681d8769b0",
            "max": 3,
            "min": -1,
            "orientation": "horizontal",
            "readout": true,
            "readout_format": "d",
            "step": 1,
            "style": "IPY_MODEL_1b0873aaa3f84b50b1ff14b4daba06bb",
            "value": 1
          }
        },
        "fcebff7784b04f0c8c091a769629e6ce": {
          "model_module": "@jupyter-widgets/controls",
          "model_name": "IntSliderModel",
          "model_module_version": "1.5.0",
          "state": {
            "_dom_classes": [],
            "_model_module": "@jupyter-widgets/controls",
            "_model_module_version": "1.5.0",
            "_model_name": "IntSliderModel",
            "_view_count": null,
            "_view_module": "@jupyter-widgets/controls",
            "_view_module_version": "1.5.0",
            "_view_name": "IntSliderView",
            "continuous_update": true,
            "description": "Ki",
            "description_tooltip": null,
            "disabled": false,
            "layout": "IPY_MODEL_e96ed2511b5747d5887b430e53cf5fe4",
            "max": 9,
            "min": 0,
            "orientation": "horizontal",
            "readout": true,
            "readout_format": "d",
            "step": 1,
            "style": "IPY_MODEL_62f4e9d24fe441a4abe11aa6563ef8f4",
            "value": 0
          }
        },
        "b398a9f0f22844ce8897a2ed459b6ce7": {
          "model_module": "@jupyter-widgets/output",
          "model_name": "OutputModel",
          "model_module_version": "1.0.0",
          "state": {
            "_dom_classes": [],
            "_model_module": "@jupyter-widgets/output",
            "_model_module_version": "1.0.0",
            "_model_name": "OutputModel",
            "_view_count": null,
            "_view_module": "@jupyter-widgets/output",
            "_view_module_version": "1.0.0",
            "_view_name": "OutputView",
            "layout": "IPY_MODEL_28967c2e87204847a446adb0c47afd4a",
            "msg_id": "",
            "outputs": [
              {
                "output_type": "stream",
                "name": "stdout",
                "text": [
                  "transfer function:  \n",
                  "         1\n",
                  "--------------------\n",
                  "5 s^2 + 0.3125 s + 1\n",
                  "\n"
                ]
              },
              {
                "output_type": "display_data",
                "data": {
                  "text/plain": "<Figure size 1152x576 with 3 Axes>",
                  "image/png": "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\n"
                },
                "metadata": {
                  "needs_background": "light"
                }
              },
              {
                "output_type": "stream",
                "name": "stdout",
                "text": [
                  "Rise Time:  2.8051798087237114\n",
                  "Settling Time:  121.18376773686433\n",
                  "Overshoot:  79.74263764409662\n",
                  "Steady-state Error 0.002025469189891105\n"
                ]
              }
            ]
          }
        },
        "33546a5f11d24058b995e55d989b540e": {
          "model_module": "@jupyter-widgets/base",
          "model_name": "LayoutModel",
          "model_module_version": "1.2.0",
          "state": {
            "_model_module": "@jupyter-widgets/base",
            "_model_module_version": "1.2.0",
            "_model_name": "LayoutModel",
            "_view_count": null,
            "_view_module": "@jupyter-widgets/base",
            "_view_module_version": "1.2.0",
            "_view_name": "LayoutView",
            "align_content": null,
            "align_items": null,
            "align_self": null,
            "border": null,
            "bottom": null,
            "display": null,
            "flex": null,
            "flex_flow": null,
            "grid_area": null,
            "grid_auto_columns": null,
            "grid_auto_flow": null,
            "grid_auto_rows": null,
            "grid_column": null,
            "grid_gap": null,
            "grid_row": null,
            "grid_template_areas": null,
            "grid_template_columns": null,
            "grid_template_rows": null,
            "height": null,
            "justify_content": null,
            "justify_items": null,
            "left": null,
            "margin": null,
            "max_height": null,
            "max_width": null,
            "min_height": null,
            "min_width": null,
            "object_fit": null,
            "object_position": null,
            "order": null,
            "overflow": null,
            "overflow_x": null,
            "overflow_y": null,
            "padding": null,
            "right": null,
            "top": null,
            "visibility": null,
            "width": null
          }
        },
        "fe336c4ccbf642a79791f0af3ef37a68": {
          "model_module": "@jupyter-widgets/base",
          "model_name": "LayoutModel",
          "model_module_version": "1.2.0",
          "state": {
            "_model_module": "@jupyter-widgets/base",
            "_model_module_version": "1.2.0",
            "_model_name": "LayoutModel",
            "_view_count": null,
            "_view_module": "@jupyter-widgets/base",
            "_view_module_version": "1.2.0",
            "_view_name": "LayoutView",
            "align_content": null,
            "align_items": null,
            "align_self": null,
            "border": null,
            "bottom": null,
            "display": null,
            "flex": null,
            "flex_flow": null,
            "grid_area": null,
            "grid_auto_columns": null,
            "grid_auto_flow": null,
            "grid_auto_rows": null,
            "grid_column": null,
            "grid_gap": null,
            "grid_row": null,
            "grid_template_areas": null,
            "grid_template_columns": null,
            "grid_template_rows": null,
            "height": null,
            "justify_content": null,
            "justify_items": null,
            "left": null,
            "margin": null,
            "max_height": null,
            "max_width": null,
            "min_height": null,
            "min_width": null,
            "object_fit": null,
            "object_position": null,
            "order": null,
            "overflow": null,
            "overflow_x": null,
            "overflow_y": null,
            "padding": null,
            "right": null,
            "top": null,
            "visibility": null,
            "width": null
          }
        },
        "3cb0bfb02b814cba9284393c0cbf4af6": {
          "model_module": "@jupyter-widgets/controls",
          "model_name": "SliderStyleModel",
          "model_module_version": "1.5.0",
          "state": {
            "_model_module": "@jupyter-widgets/controls",
            "_model_module_version": "1.5.0",
            "_model_name": "SliderStyleModel",
            "_view_count": null,
            "_view_module": "@jupyter-widgets/base",
            "_view_module_version": "1.2.0",
            "_view_name": "StyleView",
            "description_width": "",
            "handle_color": null
          }
        },
        "09d4ad343b034d7e83f311681d8769b0": {
          "model_module": "@jupyter-widgets/base",
          "model_name": "LayoutModel",
          "model_module_version": "1.2.0",
          "state": {
            "_model_module": "@jupyter-widgets/base",
            "_model_module_version": "1.2.0",
            "_model_name": "LayoutModel",
            "_view_count": null,
            "_view_module": "@jupyter-widgets/base",
            "_view_module_version": "1.2.0",
            "_view_name": "LayoutView",
            "align_content": null,
            "align_items": null,
            "align_self": null,
            "border": null,
            "bottom": null,
            "display": null,
            "flex": null,
            "flex_flow": null,
            "grid_area": null,
            "grid_auto_columns": null,
            "grid_auto_flow": null,
            "grid_auto_rows": null,
            "grid_column": null,
            "grid_gap": null,
            "grid_row": null,
            "grid_template_areas": null,
            "grid_template_columns": null,
            "grid_template_rows": null,
            "height": null,
            "justify_content": null,
            "justify_items": null,
            "left": null,
            "margin": null,
            "max_height": null,
            "max_width": null,
            "min_height": null,
            "min_width": null,
            "object_fit": null,
            "object_position": null,
            "order": null,
            "overflow": null,
            "overflow_x": null,
            "overflow_y": null,
            "padding": null,
            "right": null,
            "top": null,
            "visibility": null,
            "width": null
          }
        },
        "1b0873aaa3f84b50b1ff14b4daba06bb": {
          "model_module": "@jupyter-widgets/controls",
          "model_name": "SliderStyleModel",
          "model_module_version": "1.5.0",
          "state": {
            "_model_module": "@jupyter-widgets/controls",
            "_model_module_version": "1.5.0",
            "_model_name": "SliderStyleModel",
            "_view_count": null,
            "_view_module": "@jupyter-widgets/base",
            "_view_module_version": "1.2.0",
            "_view_name": "StyleView",
            "description_width": "",
            "handle_color": null
          }
        },
        "e96ed2511b5747d5887b430e53cf5fe4": {
          "model_module": "@jupyter-widgets/base",
          "model_name": "LayoutModel",
          "model_module_version": "1.2.0",
          "state": {
            "_model_module": "@jupyter-widgets/base",
            "_model_module_version": "1.2.0",
            "_model_name": "LayoutModel",
            "_view_count": null,
            "_view_module": "@jupyter-widgets/base",
            "_view_module_version": "1.2.0",
            "_view_name": "LayoutView",
            "align_content": null,
            "align_items": null,
            "align_self": null,
            "border": null,
            "bottom": null,
            "display": null,
            "flex": null,
            "flex_flow": null,
            "grid_area": null,
            "grid_auto_columns": null,
            "grid_auto_flow": null,
            "grid_auto_rows": null,
            "grid_column": null,
            "grid_gap": null,
            "grid_row": null,
            "grid_template_areas": null,
            "grid_template_columns": null,
            "grid_template_rows": null,
            "height": null,
            "justify_content": null,
            "justify_items": null,
            "left": null,
            "margin": null,
            "max_height": null,
            "max_width": null,
            "min_height": null,
            "min_width": null,
            "object_fit": null,
            "object_position": null,
            "order": null,
            "overflow": null,
            "overflow_x": null,
            "overflow_y": null,
            "padding": null,
            "right": null,
            "top": null,
            "visibility": null,
            "width": null
          }
        },
        "62f4e9d24fe441a4abe11aa6563ef8f4": {
          "model_module": "@jupyter-widgets/controls",
          "model_name": "SliderStyleModel",
          "model_module_version": "1.5.0",
          "state": {
            "_model_module": "@jupyter-widgets/controls",
            "_model_module_version": "1.5.0",
            "_model_name": "SliderStyleModel",
            "_view_count": null,
            "_view_module": "@jupyter-widgets/base",
            "_view_module_version": "1.2.0",
            "_view_name": "StyleView",
            "description_width": "",
            "handle_color": null
          }
        },
        "28967c2e87204847a446adb0c47afd4a": {
          "model_module": "@jupyter-widgets/base",
          "model_name": "LayoutModel",
          "model_module_version": "1.2.0",
          "state": {
            "_model_module": "@jupyter-widgets/base",
            "_model_module_version": "1.2.0",
            "_model_name": "LayoutModel",
            "_view_count": null,
            "_view_module": "@jupyter-widgets/base",
            "_view_module_version": "1.2.0",
            "_view_name": "LayoutView",
            "align_content": null,
            "align_items": null,
            "align_self": null,
            "border": null,
            "bottom": null,
            "display": null,
            "flex": null,
            "flex_flow": null,
            "grid_area": null,
            "grid_auto_columns": null,
            "grid_auto_flow": null,
            "grid_auto_rows": null,
            "grid_column": null,
            "grid_gap": null,
            "grid_row": null,
            "grid_template_areas": null,
            "grid_template_columns": null,
            "grid_template_rows": null,
            "height": null,
            "justify_content": null,
            "justify_items": null,
            "left": null,
            "margin": null,
            "max_height": null,
            "max_width": null,
            "min_height": null,
            "min_width": null,
            "object_fit": null,
            "object_position": null,
            "order": null,
            "overflow": null,
            "overflow_x": null,
            "overflow_y": null,
            "padding": null,
            "right": null,
            "top": null,
            "visibility": null,
            "width": null
          }
        }
      }
    }
  },
  "nbformat": 4,
  "nbformat_minor": 0
}