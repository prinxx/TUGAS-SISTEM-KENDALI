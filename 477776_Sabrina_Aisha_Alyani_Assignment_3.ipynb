{
  "nbformat": 4,
  "nbformat_minor": 0,
  "metadata": {
    "colab": {
      "provenance": [],
      "collapsed_sections": []
    },
    "kernelspec": {
      "name": "python3",
      "display_name": "Python 3"
    },
    "language_info": {
      "name": "python"
    }
  },
  "cells": [
    {
      "cell_type": "markdown",
      "source": [
        "# Nama  : Sabrina Aisha Alyani\n",
        "# Nim   : 21/477776/PA/20702\n",
        "# Tugas : Assignment 3\n",
        "# Matkul : Sistem Kendali \n",
        "# Kelas : EL"
      ],
      "metadata": {
        "id": "OUQdPdJlG5nu"
      }
    },
    {
      "cell_type": "code",
      "source": [
        "%pip install tbcontrol"
      ],
      "metadata": {
        "id": "T9aTkb83HHTL"
      },
      "execution_count": null,
      "outputs": []
    },
    {
      "cell_type": "code",
      "source": [
        "import numpy as np\n",
        "import sympy as sp\n",
        "sp.init_printing()\n",
        "from tbcontrol.symbolic import routh as rt\n",
        "from IPython.core.interactiveshell import InteractiveShell\n",
        "InteractiveShell.ast_node_interactivity = 'all'\n",
        "from ipywidgets import interact"
      ],
      "metadata": {
        "id": "LasIlJwbHbpB"
      },
      "execution_count": null,
      "outputs": []
    },
    {
      "cell_type": "code",
      "source": [
        "s = sp.Symbol('s')"
      ],
      "metadata": {
        "id": "n2e9K5Q6HedO"
      },
      "execution_count": null,
      "outputs": []
    },
    {
      "cell_type": "code",
      "source": [
        "G = 700/((s+15)*(s**2+4*s+500))\n",
        "G"
      ],
      "metadata": {
        "id": "vEvYnOBpHhA_"
      },
      "execution_count": null,
      "outputs": []
    },
    {
      "cell_type": "code",
      "source": [
        "poly = sp.denom(G)\n",
        "poly"
      ],
      "metadata": {
        "id": "UbiLEjKEHkiv"
      },
      "execution_count": null,
      "outputs": []
    },
    {
      "cell_type": "code",
      "source": [
        "roots = sp.solve(poly.as_poly())\n",
        "roots"
      ],
      "metadata": {
        "id": "_z9r9XpQHn8F"
      },
      "execution_count": null,
      "outputs": []
    },
    {
      "cell_type": "code",
      "source": [
        "print('Pole s1 =')\n",
        "roots[0]\n",
        "print('Pole s2 =')\n",
        "roots[1]\n",
        "print('Pole s3 =')\n",
        "roots[2]"
      ],
      "metadata": {
        "id": "wffW265cHqnb"
      },
      "execution_count": null,
      "outputs": []
    },
    {
      "cell_type": "code",
      "source": [
        "routh = rt(poly.as_poly())\n",
        "routh"
      ],
      "metadata": {
        "id": "BRcCzWEXHuHD"
      },
      "execution_count": null,
      "outputs": []
    },
    {
      "cell_type": "code",
      "source": [
        "tabel = np.array(routh)\n",
        "stabil = 1\n",
        "for i in range(len(tabel)):\n",
        "        if tabel[i][0] < 0:\n",
        "            stabil = 0\n",
        "            break\n",
        "if stabil == 1:\n",
        "    print(\"Sistem stabil karena semua nilai di kolom pertama positif\")\n",
        "else:\n",
        "    print(\"Sistem tidak stabil karena ada nilai negatif di kolom pertama\")\n"
      ],
      "metadata": {
        "id": "lp7DPmccHxNJ"
      },
      "execution_count": null,
      "outputs": []
    },
    {
      "cell_type": "code",
      "source": [
        "K = int(input(\"Masukan nilai K = \"))\n",
        "GK = K/((s*(s**2+s+1)*(s+2))+K)\n",
        "poly = sp.denom(GK)\n",
        "routh = rt(poly.as_poly())\n",
        "print(\"G(s) = \")\n",
        "poly\n",
        "print(\"Tabel Routh = \")\n",
        "routh"
      ],
      "metadata": {
        "id": "KddH1QhBHze0"
      },
      "execution_count": null,
      "outputs": []
    }
  ]
}